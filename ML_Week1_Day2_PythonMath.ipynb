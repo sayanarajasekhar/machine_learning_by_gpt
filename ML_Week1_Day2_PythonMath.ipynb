{
  "nbformat": 4,
  "nbformat_minor": 0,
  "metadata": {
    "colab": {
      "provenance": [],
      "authorship_tag": "ABX9TyM7Sj2rxao+h/rFJnj8/l3Z",
      "include_colab_link": true
    },
    "kernelspec": {
      "name": "python3",
      "display_name": "Python 3"
    },
    "language_info": {
      "name": "python"
    }
  },
  "cells": [
    {
      "cell_type": "markdown",
      "metadata": {
        "id": "view-in-github",
        "colab_type": "text"
      },
      "source": [
        "<a href=\"https://colab.research.google.com/github/sayanarajasekhar/machine_learning_by_gpt/blob/main/ML_Week1_Day2_PythonMath.ipynb\" target=\"_parent\"><img src=\"https://colab.research.google.com/assets/colab-badge.svg\" alt=\"Open In Colab\"/></a>"
      ]
    },
    {
      "cell_type": "code",
      "execution_count": null,
      "metadata": {
        "colab": {
          "base_uri": "https://localhost:8080/"
        },
        "id": "MoEmHtZgtWOb",
        "outputId": "7d437ab5-ff4a-41d0-e139-42e0c4b8b3d2"
      },
      "outputs": [
        {
          "output_type": "stream",
          "name": "stdout",
          "text": [
            "Scores: [55 67 89 70 61 95 80]\n",
            "Mean (average): 73.85714285714286\n",
            "Median: 70.0\n",
            "Standard Deviation: 13.611219861660047\n",
            "Variance: 185.26530612244895\n"
          ]
        }
      ],
      "source": [
        "import numpy as np\n",
        "import pandas as pd\n",
        "\n",
        "# Sample dataset:  test scores\n",
        "scores = [55, 67, 89, 70, 61, 95, 80]\n",
        "\n",
        "# Convert to NumPy array\n",
        "arr = np.array(scores)\n",
        "\n",
        "# Basic Statistics\n",
        "mean = np.mean(arr)\n",
        "median = np.median(arr)\n",
        "std_dev = np.std(arr)\n",
        "var = np.var(arr)\n",
        "\n",
        "print(f\"Scores: {arr}\")\n",
        "print(f\"Mean (average): {mean}\")\n",
        "print(f\"Median: {median}\")\n",
        "print(f\"Standard Deviation: {std_dev}\")\n",
        "print(f\"Variance: {var}\")"
      ]
    }
  ]
}